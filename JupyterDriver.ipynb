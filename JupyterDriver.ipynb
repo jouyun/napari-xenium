{
 "cells": [
  {
   "cell_type": "code",
   "execution_count": 1,
   "metadata": {},
   "outputs": [],
   "source": [
    "#from src.napari_xenium._xenium import visualize_gene_by_cell\n",
    "import src.napari_xenium._xenium as xenium\n",
    "import napari"
   ]
  },
  {
   "cell_type": "code",
   "execution_count": 2,
   "metadata": {},
   "outputs": [],
   "source": [
    "viewer = napari.Viewer()"
   ]
  },
  {
   "cell_type": "code",
   "execution_count": 3,
   "metadata": {},
   "outputs": [],
   "source": [
    "data_directory = 'D:/Xenium_CRY/output-XETG00113__0010616__Region_1__20230927__164252/'"
   ]
  },
  {
   "cell_type": "code",
   "execution_count": 4,
   "metadata": {},
   "outputs": [],
   "source": [
    "trans_df, orig_img, nuclear_img, cell_img, leiden_img, cluster_img, adata = xenium.load_xenium_data(data_directory)"
   ]
  },
  {
   "cell_type": "code",
   "execution_count": 5,
   "metadata": {},
   "outputs": [
    {
     "data": {
      "text/plain": [
       "<Image layer 'original' at 0x27199ebf8e0>"
      ]
     },
     "execution_count": 5,
     "metadata": {},
     "output_type": "execute_result"
    }
   ],
   "source": [
    "viewer.add_image(orig_img, name='original')"
   ]
  },
  {
   "cell_type": "code",
   "execution_count": 6,
   "metadata": {},
   "outputs": [
    {
     "data": {
      "text/plain": [
       "<Labels layer 'leiden' at 0x27259d9c340>"
      ]
     },
     "execution_count": 6,
     "metadata": {},
     "output_type": "execute_result"
    }
   ],
   "source": [
    "viewer.add_labels(leiden_img, name='leiden')"
   ]
  },
  {
   "cell_type": "code",
   "execution_count": null,
   "metadata": {},
   "outputs": [],
   "source": []
  },
  {
   "cell_type": "code",
   "execution_count": 7,
   "metadata": {},
   "outputs": [],
   "source": [
    "genes = adata.var.index.values"
   ]
  },
  {
   "cell_type": "code",
   "execution_count": 8,
   "metadata": {},
   "outputs": [
    {
     "data": {
      "text/plain": [
       "array(['0610005C13Rik', '1110017D15Rik', '2610528A11Rik', '5330417C22Rik',\n",
       "       '6330403K07Rik', 'A330076H08Rik', 'AU021092', 'Aadat', 'Abca13',\n",
       "       'Abcb11', 'Acan', 'Ace2', 'Ackr3', 'Actl6b', 'Actn3', 'Ager',\n",
       "       'Aif1l', 'Aldh1b1', 'Alox5ap', 'Ambp', 'Angpt2', 'Anxa2', 'Anxa8',\n",
       "       'Aplp1', 'Apoc2', 'Apoc4', 'Aqp1', 'Aqp3', 'Aqp4', 'Aqp5', 'Aqp7',\n",
       "       'Areg', 'Arpp21', 'Asb9', 'Ascl1', 'Aspn', 'Asprv1', 'Asz1',\n",
       "       'Atp6v0d2', 'Atp6v1b1', 'B4galnt2', 'Bgn', 'Bmp2', 'Bst1', 'C3',\n",
       "       'C5ar1', 'Calb1', 'Calcrl', 'Calm4', 'Calm5', 'Capns2', 'Car2',\n",
       "       'Car3', 'Cav1', 'Cavin2', 'Ccdc153', 'Ccdc80', 'Ccl12', 'Ccl9',\n",
       "       'Ccn3', 'Cd300lf', 'Cd36', 'Cd3d', 'Cd5l', 'Cd8a', 'Cdh16',\n",
       "       'Cdhr5', 'Cdx1', 'Celf3', 'Cenpf', 'Cfh', 'Chgb', 'Chl1', 'Chodl',\n",
       "       'Clcnka', 'Clcnkb', 'Cldn11', 'Cldn2', 'Cldn3', 'Cldn4', 'Cldn7',\n",
       "       'Clec14a', 'Clec4a3', 'Clec4f', 'Cndp2', 'Cnfn', 'Cnn1', 'Coch',\n",
       "       'Col17a1', 'Col2a1', 'Col8a1', 'Colec11', 'Comp', 'Cox8b', 'Cp',\n",
       "       'Cpa3', 'Cplx2', 'Crct1', 'Cryab', 'Csf3r', 'Cstdc4', 'Ctla2a',\n",
       "       'Ctla4', 'Ctse', 'Ctsg', 'Ctss', 'Cubn', 'Cux2', 'Cxcr2', 'Cybb',\n",
       "       'Cyp11a1', 'Cyp4b1', 'Dao', 'Dbpht2', 'Dcdc2a', 'Dcpp2', 'Des',\n",
       "       'Dnase1l3', 'Dpt', 'Dsc3', 'Dynlrb2', 'Ecrg4', 'Emb', 'Eng',\n",
       "       'Epcam', 'Epsti1', 'Etv1', 'F13a1', 'F3', 'Fam183b', 'Fam25c',\n",
       "       'Fbln5', 'Fcnb', 'Fech', 'Fibin', 'Fmo5', 'Folr2', 'Fxyd1',\n",
       "       'Fxyd3', 'Fxyd4', 'Fxyd6', 'Gabrp', 'Gad1', 'Gamt', 'Gap43',\n",
       "       'Gatm', 'Gc', 'Gfap', 'Gjb4', 'Gm13889', 'Gm94', 'Gng11', 'Gp2',\n",
       "       'Gpa33', 'Gpihbp1', 'Gpx2', 'Gpx6', 'Gria2', 'Guca2b', 'Hap1',\n",
       "       'Hc', 'Hemgn', 'Higd1b', 'Hmbs', 'Hmgcs2', 'Hp', 'Hpgd', 'Hpx',\n",
       "       'Hrc', 'Hrg', 'Hsd11b2', 'Hsd3b4', 'Htra3', 'Ifitm6', 'Igfbp6',\n",
       "       'Il1r2', 'Insm1', 'Isca1', 'Isg20', 'Itga8', 'Ivl', 'Iyd', 'Kcna1',\n",
       "       'Kcnj1', 'Kcnj16', 'Kdr', 'Kl', 'Klra8', 'Kng2', 'Krt13', 'Krt16',\n",
       "       'Krt19', 'Krt79', 'Krt8', 'Lamp3', 'Laptm5', 'Lce1m', 'Ldhb',\n",
       "       'Lhx2', 'Lipg', 'Lor', 'Lrp2', 'Lst1', 'Ltc4s', 'Lum', 'Ly6g6c',\n",
       "       'Ly6h', 'Lyve1', 'Mamdc2', 'Mapk10', 'Marco', 'Mettl7a2', 'Mfap4',\n",
       "       'Mfap5', 'Mgat4c', 'Mgll', 'Mlc1', 'Mmp8', 'Mmp9', 'Mmrn1',\n",
       "       'Mpeg1', 'Mpo', 'Mrgpra2a', 'Ms4a6b', 'Ms4a6c', 'Ms4a7', 'Muc1',\n",
       "       'Mustn1', 'Myf6', 'Myh11', 'Myl9', 'Mylk', 'Mylk3', 'Myoz1',\n",
       "       'Myoz2', 'Myt1l', 'Nap1l5', 'Nbl1', 'Ncf4', 'Ndrg1', 'Ndufa4l2',\n",
       "       'Ndufs8', 'Neurod1', 'Nnat', 'Nox4', 'Nts', 'Nupr1', 'Oit1',\n",
       "       'Oit3', 'Omp', 'Otor', 'Pax8', 'Pck1', 'Pcolce2', 'Pf4', 'Pgam2',\n",
       "       'Pglyrp1', 'Pi16', 'Plbd1', 'Pln', 'Plp1', 'Plvap', 'Pmp22',\n",
       "       'Pnmal2', 'Podxl', 'Pou3f3', 'Ppargc1a', 'Ppbp', 'Ppp1r1a',\n",
       "       'Prap1', 'Prg2', 'Prom2', 'Prox1', 'Prss23', 'Prss3', 'Prx',\n",
       "       'Psmb8', 'Ptn', 'Ptprn2', 'Pvalb', 'Pygm', 'Rab3b', 'Rac2',\n",
       "       'Rasd1', 'Rbp1', 'Rbp2', 'Rbp7', 'Reg3g', 'Retn', 'Retnla', 'Rgs5',\n",
       "       'Rhcg', 'Rhd', 'Rho', 'Riiad1', 'Rsad2', 'Runx2', 'S100a14',\n",
       "       'S100a4', 'Satb1', 'Sbsn', 'Scg2', 'Scg3', 'Scg5', 'Scgb3a2',\n",
       "       'Scin', 'Sct', 'Sdc1', 'Selenbp1', 'Serpina10', 'Serpina3n',\n",
       "       'Serpinb11', 'Serpinb5', 'Serpinf1', 'Sez6l', 'Sfrp1', 'Sfta2',\n",
       "       'Sftpd', 'Slc10a1', 'Slc14a1', 'Slc14a2', 'Slc17a7', 'Slc22a6',\n",
       "       'Slc22a8', 'Slc25a37', 'Slc25a47', 'Slc27a2', 'Slc34a2', 'Slc4a1',\n",
       "       'Slc4a4', 'Slc5a1', 'Snap25', 'Sod3', 'Sostdc1', 'Sox17', 'Sox2',\n",
       "       'Sox9', 'Stfa2l1', 'Stmn1', 'Sypl2', 'Tagln', 'Tat', 'Tbx1',\n",
       "       'Tcf15', 'Tfcp2l1', 'Tff2', 'Thbs4', 'Them5', 'Tie1', 'Timp3',\n",
       "       'Timp4', 'Tm4sf20', 'Tm4sf4', 'Tmem100', 'Tmem147', 'Tmem212',\n",
       "       'Tmem213', 'Tmem59l', 'Tnfaip6', 'Tnnc1', 'Trdn', 'Trim29',\n",
       "       'Try10', 'Tspan8', 'Ttc36', 'Ttn', 'Tubb3', 'Ube2c', 'Ucma', 'Uox',\n",
       "       'Upk1a', 'Upk1b', 'Upk3a', 'Upk3b', 'Vsnl1', 'Vsx2', 'Vwf', 'Wif1',\n",
       "       'Wnt3'], dtype=object)"
      ]
     },
     "execution_count": 8,
     "metadata": {},
     "output_type": "execute_result"
    }
   ],
   "source": [
    "genes"
   ]
  },
  {
   "cell_type": "code",
   "execution_count": 13,
   "metadata": {},
   "outputs": [],
   "source": [
    "gene = genes[50]\n",
    "xenium.visualize_by_transcript(trans_df, gene=gene, viewer=viewer)\n",
    "xenium.visualize_gene_by_cell_w_boundaries(adata, gene=gene, viewer=viewer, label_img=cell_img)"
   ]
  },
  {
   "cell_type": "code",
   "execution_count": null,
   "metadata": {},
   "outputs": [],
   "source": []
  }
 ],
 "metadata": {
  "kernelspec": {
   "display_name": "napari",
   "language": "python",
   "name": "python3"
  },
  "language_info": {
   "codemirror_mode": {
    "name": "ipython",
    "version": 3
   },
   "file_extension": ".py",
   "mimetype": "text/x-python",
   "name": "python",
   "nbconvert_exporter": "python",
   "pygments_lexer": "ipython3",
   "version": "3.10.13"
  }
 },
 "nbformat": 4,
 "nbformat_minor": 2
}
